{
  "nbformat": 4,
  "nbformat_minor": 0,
  "metadata": {
    "colab": {
      "provenance": [],
      "authorship_tag": "ABX9TyNOT0Ik6AWUSIT0YJTIkCjk",
      "include_colab_link": true
    },
    "kernelspec": {
      "name": "python3",
      "display_name": "Python 3"
    },
    "language_info": {
      "name": "python"
    }
  },
  "cells": [
    {
      "cell_type": "markdown",
      "metadata": {
        "id": "view-in-github",
        "colab_type": "text"
      },
      "source": [
        "<a href=\"https://colab.research.google.com/github/Juan-droid12/Taller_3-2024_20_14402/blob/main/Taller3.ipynb\" target=\"_parent\"><img src=\"https://colab.research.google.com/assets/colab-badge.svg\" alt=\"Open In Colab\"/></a>"
      ]
    },
    {
      "cell_type": "markdown",
      "source": [
        "# Recuperacion taller 3\n",
        "\n",
        "**Nombre:** JUAN DAVID CHIMACHANA LOPEZ\n",
        "\n",
        "***_Fecha de creacion:_*** 20 de septiembre de 2024\n",
        "\n",
        "**email:** juan.chimachana@upb.edu.co"
      ],
      "metadata": {
        "id": "Akq3APDsTLSK"
      }
    },
    {
      "cell_type": "markdown",
      "source": [
        "# Algoritmo:  costo de alquiler de bicicletas\n",
        "1. iniciar\n",
        "2. aplicar valor base del costo del alquiler\n",
        "3. obtener horas adicionales del alquiler, teniendo en cuanta de que las primeras 4 horas tienen un valor de 3.500 por hora; las siguientes 4 horas el valor esta en 2.500 por hora y partir de las 8 horas tiene un valor de 1.500 por hora.\n",
        "4. cobrar una penalizacion si el alquiler supera las 24 horas, aplicando un costo adicinal de 15.000 por dia adicional\n",
        "5. aplicar un descuento del 10% al subtotal del valor antes de cualquier penalizacion. se aplicara  el descuento si el alquiler se hace solo los dias de la semana (lunes a viernes)\n",
        "6. mostrar resultados\n",
        "7. finalizar"
      ],
      "metadata": {
        "id": "83FBkj0XUSkJ"
      }
    },
    {
      "cell_type": "code",
      "execution_count": null,
      "metadata": {
        "id": "E6Dqf0vlTKlO"
      },
      "outputs": [],
      "source": [
        "# pseudocodigo\n",
        "\n",
        "program calculocostodealquiler\n",
        "\n",
        "star\n",
        "\n",
        "# declaracion de variables\n",
        "\n",
        "declare int horas_alquiler\n",
        "declare string  dia_semana = (lunes a domingo)\n",
        "declare const tarifa_base = 10000\n",
        "declare float costo_total\n",
        "declare int dia_adicional = 15000\n",
        "declare float descuento = 0.10\n",
        "declare float subtotal\n",
        "\n",
        "\n",
        "\n",
        "display \"ingrese horas de alquiler\"\n",
        "input horas_alquiler\n",
        "display \"ingrese dia se semana\"\n",
        "input dia_semana\n",
        "\n",
        "if horas_alquiler <= 4 then\n",
        "   set costo_total = tarifa_base + horas_alquiler * 3500\n",
        "else if horas_alquiler <= 8 then\n",
        "   set costo_total = tarifa_base + (horas_alquiler - 4 ) * 2500\n",
        "else\n",
        "   set costo_total = tarifa_base + (horas_alquiler - 8) * 1500\n",
        "end if\n",
        "\n",
        "# calcular penalizacion\n",
        "\n",
        "if horas_alquiler > 24 then\n",
        "    set dias_adicionales = horas_alquiler // 24\n",
        "    set costo_total = tarifa_base + dias_adicionales * 15000\n",
        "end if\n",
        "\n",
        "\n",
        "# Aplicación de descuento si es día de semana\n",
        "if dia_semana in [\"lunes\", \"martes\", \"miércoles\", \"jueves\", \"viernes\"] then\n",
        "   set subtotal = costo_total\n",
        "   set costo_total = costo_total - (subtotal * descuento)\n",
        "end if\n",
        "\n",
        "\n",
        "display \"El costo total del alquiler es: \", costo_total\n",
        "end\n",
        "\n",
        "\n",
        "\n",
        "\n",
        "\n",
        "\n",
        "\n"
      ]
    },
    {
      "cell_type": "code",
      "source": [
        "\n",
        "horas_alquiler = int(input(\"Ingrese el número de horas de alquiler: \"))\n",
        "dia_semana = input(\"Ingrese el día de la semana (lunes a domingo): \")\n",
        "\n",
        "# Variables constantes\n",
        "tarifa_base = 10000\n",
        "descuento = 0.10\n",
        "\n",
        "\n",
        "if horas_alquiler <= 4:\n",
        "    total = tarifa_base + horas_alquiler * 3500\n",
        "elif horas_alquiler <= 8:\n",
        "    total = tarifa_base + 4 * 3500 + (horas_alquiler - 4) * 2500\n",
        "else:\n",
        "    total = tarifa_base + 4 * 3500 + 4 * 2500 + (horas_alquiler - 8) * 1500\n",
        "\n",
        "# Calcular penalización si excede las 24 horas\n",
        "if horas_alquiler > 24:\n",
        "    dias_adicionales = horas_alquiler // 24\n",
        "    total = dias_adicionales * 15000\n",
        "\n",
        "# Aplicar descuento si es día de semana (lunes a viernes)\n",
        "if dia_semana in [\"lunes\", \"martes\", \"miércoles\", \"jueves\", \"viernes\"]:\n",
        "    total -= total * descuento\n",
        "\n",
        "print(f\"El total a pagar es: ${total}\")"
      ],
      "metadata": {
        "id": "eW0RRwiYx_IL"
      },
      "execution_count": null,
      "outputs": []
    },
    {
      "cell_type": "code",
      "source": [],
      "metadata": {
        "id": "1Fh57BnUzDlt"
      },
      "execution_count": null,
      "outputs": []
    }
  ]
}